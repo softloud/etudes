{
 "cells": [
  {
   "attachments": {},
   "cell_type": "markdown",
   "metadata": {},
   "source": [
    "# To dos\n",
    "\n",
    "- [ ] etudes repo push\n",
    "\n",
    "\n",
    "\n",
    "# Answering scientific questions using data\n",
    "\n",
    "## Key texts "
   ]
  },
  {
   "cell_type": "code",
   "execution_count": 13,
   "metadata": {},
   "outputs": [
    {
     "data": {
      "text/html": [
       "<style  type=\"text/css\" >\n",
       "</style><table id=\"T_5b58d406_94bb_11ed_bf1c_0d3597681d24\" ><thead>    <tr>        <th class=\"blank level0\" ></th>        <th class=\"col_heading level0 col0\" >Objective</th>    </tr>    <tr>        <th class=\"index_name level0\" >Resource</th>        <th class=\"blank\" ></th>    </tr></thead><tbody>\n",
       "                <tr>\n",
       "                        <th id=\"T_5b58d406_94bb_11ed_bf1c_0d3597681d24level0_row0\" class=\"row_heading level0 row0\" >Statistical Rethinking</th>\n",
       "                        <td id=\"T_5b58d406_94bb_11ed_bf1c_0d3597681d24row0_col0\" class=\"data row0 col0\" >Complete all exercises</td>\n",
       "            </tr>\n",
       "            <tr>\n",
       "                        <th id=\"T_5b58d406_94bb_11ed_bf1c_0d3597681d24level0_row1\" class=\"row_heading level0 row1\" >Modern Approach</th>\n",
       "                        <td id=\"T_5b58d406_94bb_11ed_bf1c_0d3597681d24row1_col0\" class=\"data row1 col0\" >Recreate examples, in both R and python</td>\n",
       "            </tr>\n",
       "            <tr>\n",
       "                        <th id=\"T_5b58d406_94bb_11ed_bf1c_0d3597681d24level0_row2\" class=\"row_heading level0 row2\" >B and E</th>\n",
       "                        <td id=\"T_5b58d406_94bb_11ed_bf1c_0d3597681d24row2_col0\" class=\"data row2 col0\" >No hard objective, is for when I feel like doing math</td>\n",
       "            </tr>\n",
       "            <tr>\n",
       "                        <th id=\"T_5b58d406_94bb_11ed_bf1c_0d3597681d24level0_row3\" class=\"row_heading level0 row3\" >Aki's Bayesian course</th>\n",
       "                        <td id=\"T_5b58d406_94bb_11ed_bf1c_0d3597681d24row3_col0\" class=\"data row3 col0\" >Exercises in this would be good</td>\n",
       "            </tr>\n",
       "            <tr>\n",
       "                        <th id=\"T_5b58d406_94bb_11ed_bf1c_0d3597681d24level0_row4\" class=\"row_heading level0 row4\" >Perl something</th>\n",
       "                        <td id=\"T_5b58d406_94bb_11ed_bf1c_0d3597681d24row4_col0\" class=\"data row4 col0\" >For when feeling philosophical</td>\n",
       "            </tr>\n",
       "    </tbody></table>"
      ],
      "text/plain": [
       "<pandas.io.formats.style.Styler at 0x7ff6cb392790>"
      ]
     },
     "execution_count": 13,
     "metadata": {},
     "output_type": "execute_result"
    }
   ],
   "source": [
    "import pandas as pd\n",
    "\n",
    "texts = pd.DataFrame(\n",
    "    [\n",
    "        ['Statistical Rethinking', 'Complete all exercises'],\n",
    "        ['Modern Approach', 'Recreate examples, in both R and python'],\n",
    "        ['B and E', 'No hard objective, is for when I feel like doing math'],\n",
    "        ['Aki\\'s Bayesian course', 'Exercises in this would be good'],\n",
    "        ['Perl something', 'For when feeling philosophical']\n",
    "    ],\n",
    "    columns=['Resource', 'Objective']\n",
    ").set_index('Resource')\n",
    "\n",
    "texts.style"
   ]
  },
  {
   "attachments": {},
   "cell_type": "markdown",
   "metadata": {},
   "source": [
    "## Key skills\n",
    "\n",
    "- First Jupyter Book\n",
    "- Use R and Python in book using VSC\n",
    "- Git\n",
    "\n",
    "## Things to look into\n",
    "\n",
    "- a/b testing\n",
    "- Statistical diagnostics\n",
    "- Game industry style analyses\n"
   ]
  },
  {
   "attachments": {},
   "cell_type": "markdown",
   "metadata": {},
   "source": [
    "## Where to start?\n",
    "\n",
    "Reading is good. Apply notes to simulated datasets.\n",
    "\n",
    "Also tracking, when in doubt. Come up with ways to track. "
   ]
  }
 ],
 "metadata": {
  "kernelspec": {
   "display_name": "Python 3",
   "language": "python",
   "name": "python3"
  },
  "language_info": {
   "codemirror_mode": {
    "name": "ipython",
    "version": 3
   },
   "file_extension": ".py",
   "mimetype": "text/x-python",
   "name": "python",
   "nbconvert_exporter": "python",
   "pygments_lexer": "ipython3",
   "version": "3.8.10"
  },
  "orig_nbformat": 4,
  "vscode": {
   "interpreter": {
    "hash": "916dbcbb3f70747c44a77c7bcd40155683ae19c65e1c03b4aa3499c5328201f1"
   }
  }
 },
 "nbformat": 4,
 "nbformat_minor": 2
}
